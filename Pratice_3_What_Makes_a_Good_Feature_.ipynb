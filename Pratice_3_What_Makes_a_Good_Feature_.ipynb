{
  "nbformat": 4,
  "nbformat_minor": 0,
  "metadata": {
    "colab": {
      "name": "Pratice 3 - What Makes a Good Feature - .ipynb",
      "provenance": [],
      "collapsed_sections": [],
      "authorship_tag": "ABX9TyMe2oLrJrrxwjOAzvJRKNTN",
      "include_colab_link": true
    },
    "kernelspec": {
      "name": "python3",
      "display_name": "Python 3"
    },
    "language_info": {
      "name": "python"
    }
  },
  "cells": [
    {
      "cell_type": "markdown",
      "metadata": {
        "id": "view-in-github",
        "colab_type": "text"
      },
      "source": [
        "<a href=\"https://colab.research.google.com/github/Mund99/Machine-Learning-with-Josh-Gordon/blob/main/Pratice_3_What_Makes_a_Good_Feature_.ipynb\" target=\"_parent\"><img src=\"https://colab.research.google.com/assets/colab-badge.svg\" alt=\"Open In Colab\"/></a>"
      ]
    },
    {
      "cell_type": "code",
      "source": [
        "import numpy as np \n",
        "import matplotlib.pyplot as plt \n",
        "\n",
        "greyhounds = 500 \n",
        "labs = 500 \n",
        "\n",
        "grey_height = 28 + 4 * np.random.randn(greyhounds)\n",
        "lab_height = 28 + 4 * np.random.randn(labs) \n",
        "\n",
        "plt.hist([grey_height, lab_height], stacked = True, color=['r', 'b'])\n",
        "plt.show"
      ],
      "metadata": {
        "colab": {
          "base_uri": "https://localhost:8080/",
          "height": 282
        },
        "id": "eiCQntuOrp6A",
        "outputId": "28e29dae-8e4a-4bee-b4a9-8e9d66eb721a"
      },
      "execution_count": null,
      "outputs": [
        {
          "output_type": "execute_result",
          "data": {
            "text/plain": [
              "<function matplotlib.pyplot.show>"
            ]
          },
          "metadata": {},
          "execution_count": 1
        },
        {
          "output_type": "display_data",
          "data": {
            "text/plain": [
              "<Figure size 432x288 with 1 Axes>"
            ],
            "image/png": "[encoded data removed]"
          },
          "metadata": {
            "needs_background": "light"
          }
        }
      ]
    },
    {
      "cell_type": "markdown",
      "source": [
        "Features capture different types of information \n",
        "\n",
        "Thought experiment - upon the features required \n",
        "- Avoid useless features \n",
        "- Independent feature are best \n",
        "- Avoid redundant features (repetitive feature will cause misss weightage)\n",
        "- Features should be easy to understand \n",
        "- Simpler relationships are easier to understand \n",
        "\n",
        "Ideal features are \n",
        "- Informative \n",
        "- Independent \n",
        "- Simple "
      ],
      "metadata": {
        "id": "jnajBF5htifp"
      }
    },
    {
      "cell_type": "code",
      "execution_count": null,
      "metadata": {
        "id": "l4Svao9dez1Y"
      },
      "outputs": [],
      "source": [
        ""
      ]
    }
  ]
}