{
  "nbformat": 4,
  "nbformat_minor": 0,
  "metadata": {
    "colab": {
      "name": "Practice 2 - Iris Dataset.ipynb",
      "provenance": [],
      "authorship_tag": "ABX9TyMTDZcyg8+M6/iQv6oFWXHC",
      "include_colab_link": true
    },
    "kernelspec": {
      "name": "python3",
      "display_name": "Python 3"
    },
    "language_info": {
      "name": "python"
    }
  },
  "cells": [
    {
      "cell_type": "markdown",
      "metadata": {
        "id": "view-in-github",
        "colab_type": "text"
      },
      "source": [
        "<a href=\"https://colab.research.google.com/github/Mund99/Machine-Learning-with-Josh-Gordon/blob/main/Practice_2_Iris_Dataset.ipynb\" target=\"_parent\"><img src=\"https://colab.research.google.com/assets/colab-badge.svg\" alt=\"Open In Colab\"/></a>"
      ]
    },
    {
      "cell_type": "markdown",
      "source": [
        "# **Practice on Iris Dataset from Scikit-Learn**"
      ],
      "metadata": {
        "id": "-AruRtS7deLY"
      }
    },
    {
      "cell_type": "markdown",
      "source": [
        "# Import Data"
      ],
      "metadata": {
        "id": "jwMCXpHPdmE_"
      }
    },
    {
      "cell_type": "code",
      "source": [
        "from sklearn.datasets import load_iris \n",
        "iris = load_iris()    # Import Iris dataset from scikit-learn "
      ],
      "metadata": {
        "id": "ONnNfP84d3OK"
      },
      "execution_count": 1,
      "outputs": []
    },
    {
      "cell_type": "code",
      "source": [
        "print(iris.feature_names)   # The data features \n",
        "print(iris.target_names)    # The outcome - the type of Iris "
      ],
      "metadata": {
        "colab": {
          "base_uri": "https://localhost:8080/"
        },
        "id": "ZEQRa_6Id51R",
        "outputId": "46d20756-86fe-4afb-c58f-fc44d586e109"
      },
      "execution_count": 2,
      "outputs": [
        {
          "output_type": "stream",
          "name": "stdout",
          "text": [
            "['sepal length (cm)', 'sepal width (cm)', 'petal length (cm)', 'petal width (cm)']\n",
            "['setosa' 'versicolor' 'virginica']\n"
          ]
        }
      ]
    },
    {
      "cell_type": "code",
      "source": [
        "# Printing the first row of the for the data feature and target \n",
        "print(iris.data[0])\n",
        "print(iris.target[0])"
      ],
      "metadata": {
        "colab": {
          "base_uri": "https://localhost:8080/"
        },
        "id": "AANspzojeQAR",
        "outputId": "254aef2c-d26d-4a78-d0e7-ed4c1771551c"
      },
      "execution_count": 3,
      "outputs": [
        {
          "output_type": "stream",
          "name": "stdout",
          "text": [
            "[5.1 3.5 1.4 0.2]\n",
            "0\n"
          ]
        }
      ]
    },
    {
      "cell_type": "code",
      "source": [
        "# Iterate over the dataset to print all of it \n",
        "for i in range(len(iris.target)): \n",
        "\tprint(\"Example %d: label %s, features %s\" % (i, iris.target[i], iris.data[i]))"
      ],
      "metadata": {
        "colab": {
          "base_uri": "https://localhost:8080/"
        },
        "id": "7h5meiHIdj5R",
        "outputId": "ced95f0c-16ec-4730-a92b-55dea4a7ffe0"
      },
      "execution_count": 4,
      "outputs": [
        {
          "output_type": "stream",
          "name": "stdout",
          "text": [
            "Example 0: label 0, features [5.1 3.5 1.4 0.2]\n",
            "Example 1: label 0, features [4.9 3.  1.4 0.2]\n",
            "Example 2: label 0, features [4.7 3.2 1.3 0.2]\n",
            "Example 3: label 0, features [4.6 3.1 1.5 0.2]\n",
            "Example 4: label 0, features [5.  3.6 1.4 0.2]\n",
            "Example 5: label 0, features [5.4 3.9 1.7 0.4]\n",
            "Example 6: label 0, features [4.6 3.4 1.4 0.3]\n",
            "Example 7: label 0, features [5.  3.4 1.5 0.2]\n",
            "Example 8: label 0, features [4.4 2.9 1.4 0.2]\n",
            "Example 9: label 0, features [4.9 3.1 1.5 0.1]\n",
            "Example 10: label 0, features [5.4 3.7 1.5 0.2]\n",
            "Example 11: label 0, features [4.8 3.4 1.6 0.2]\n",
            "Example 12: label 0, features [4.8 3.  1.4 0.1]\n",
            "Example 13: label 0, features [4.3 3.  1.1 0.1]\n",
            "Example 14: label 0, features [5.8 4.  1.2 0.2]\n",
            "Example 15: label 0, features [5.7 4.4 1.5 0.4]\n",
            "Example 16: label 0, features [5.4 3.9 1.3 0.4]\n",
            "Example 17: label 0, features [5.1 3.5 1.4 0.3]\n",
            "Example 18: label 0, features [5.7 3.8 1.7 0.3]\n",
            "Example 19: label 0, features [5.1 3.8 1.5 0.3]\n",
            "Example 20: label 0, features [5.4 3.4 1.7 0.2]\n",
            "Example 21: label 0, features [5.1 3.7 1.5 0.4]\n",
            "Example 22: label 0, features [4.6 3.6 1.  0.2]\n",
            "Example 23: label 0, features [5.1 3.3 1.7 0.5]\n",
            "Example 24: label 0, features [4.8 3.4 1.9 0.2]\n",
            "Example 25: label 0, features [5.  3.  1.6 0.2]\n",
            "Example 26: label 0, features [5.  3.4 1.6 0.4]\n",
            "Example 27: label 0, features [5.2 3.5 1.5 0.2]\n",
            "Example 28: label 0, features [5.2 3.4 1.4 0.2]\n",
            "Example 29: label 0, features [4.7 3.2 1.6 0.2]\n",
            "Example 30: label 0, features [4.8 3.1 1.6 0.2]\n",
            "Example 31: label 0, features [5.4 3.4 1.5 0.4]\n",
            "Example 32: label 0, features [5.2 4.1 1.5 0.1]\n",
            "Example 33: label 0, features [5.5 4.2 1.4 0.2]\n",
            "Example 34: label 0, features [4.9 3.1 1.5 0.2]\n",
            "Example 35: label 0, features [5.  3.2 1.2 0.2]\n",
            "Example 36: label 0, features [5.5 3.5 1.3 0.2]\n",
            "Example 37: label 0, features [4.9 3.6 1.4 0.1]\n",
            "Example 38: label 0, features [4.4 3.  1.3 0.2]\n",
            "Example 39: label 0, features [5.1 3.4 1.5 0.2]\n",
            "Example 40: label 0, features [5.  3.5 1.3 0.3]\n",
            "Example 41: label 0, features [4.5 2.3 1.3 0.3]\n",
            "Example 42: label 0, features [4.4 3.2 1.3 0.2]\n",
            "Example 43: label 0, features [5.  3.5 1.6 0.6]\n",
            "Example 44: label 0, features [5.1 3.8 1.9 0.4]\n",
            "Example 45: label 0, features [4.8 3.  1.4 0.3]\n",
            "Example 46: label 0, features [5.1 3.8 1.6 0.2]\n",
            "Example 47: label 0, features [4.6 3.2 1.4 0.2]\n",
            "Example 48: label 0, features [5.3 3.7 1.5 0.2]\n",
            "Example 49: label 0, features [5.  3.3 1.4 0.2]\n",
            "Example 50: label 1, features [7.  3.2 4.7 1.4]\n",
            "Example 51: label 1, features [6.4 3.2 4.5 1.5]\n",
            "Example 52: label 1, features [6.9 3.1 4.9 1.5]\n",
            "Example 53: label 1, features [5.5 2.3 4.  1.3]\n",
            "Example 54: label 1, features [6.5 2.8 4.6 1.5]\n",
            "Example 55: label 1, features [5.7 2.8 4.5 1.3]\n",
            "Example 56: label 1, features [6.3 3.3 4.7 1.6]\n",
            "Example 57: label 1, features [4.9 2.4 3.3 1. ]\n",
            "Example 58: label 1, features [6.6 2.9 4.6 1.3]\n",
            "Example 59: label 1, features [5.2 2.7 3.9 1.4]\n",
            "Example 60: label 1, features [5.  2.  3.5 1. ]\n",
            "Example 61: label 1, features [5.9 3.  4.2 1.5]\n",
            "Example 62: label 1, features [6.  2.2 4.  1. ]\n",
            "Example 63: label 1, features [6.1 2.9 4.7 1.4]\n",
            "Example 64: label 1, features [5.6 2.9 3.6 1.3]\n",
            "Example 65: label 1, features [6.7 3.1 4.4 1.4]\n",
            "Example 66: label 1, features [5.6 3.  4.5 1.5]\n",
            "Example 67: label 1, features [5.8 2.7 4.1 1. ]\n",
            "Example 68: label 1, features [6.2 2.2 4.5 1.5]\n",
            "Example 69: label 1, features [5.6 2.5 3.9 1.1]\n",
            "Example 70: label 1, features [5.9 3.2 4.8 1.8]\n",
            "Example 71: label 1, features [6.1 2.8 4.  1.3]\n",
            "Example 72: label 1, features [6.3 2.5 4.9 1.5]\n",
            "Example 73: label 1, features [6.1 2.8 4.7 1.2]\n",
            "Example 74: label 1, features [6.4 2.9 4.3 1.3]\n",
            "Example 75: label 1, features [6.6 3.  4.4 1.4]\n",
            "Example 76: label 1, features [6.8 2.8 4.8 1.4]\n",
            "Example 77: label 1, features [6.7 3.  5.  1.7]\n",
            "Example 78: label 1, features [6.  2.9 4.5 1.5]\n",
            "Example 79: label 1, features [5.7 2.6 3.5 1. ]\n",
            "Example 80: label 1, features [5.5 2.4 3.8 1.1]\n",
            "Example 81: label 1, features [5.5 2.4 3.7 1. ]\n",
            "Example 82: label 1, features [5.8 2.7 3.9 1.2]\n",
            "Example 83: label 1, features [6.  2.7 5.1 1.6]\n",
            "Example 84: label 1, features [5.4 3.  4.5 1.5]\n",
            "Example 85: label 1, features [6.  3.4 4.5 1.6]\n",
            "Example 86: label 1, features [6.7 3.1 4.7 1.5]\n",
            "Example 87: label 1, features [6.3 2.3 4.4 1.3]\n",
            "Example 88: label 1, features [5.6 3.  4.1 1.3]\n",
            "Example 89: label 1, features [5.5 2.5 4.  1.3]\n",
            "Example 90: label 1, features [5.5 2.6 4.4 1.2]\n",
            "Example 91: label 1, features [6.1 3.  4.6 1.4]\n",
            "Example 92: label 1, features [5.8 2.6 4.  1.2]\n",
            "Example 93: label 1, features [5.  2.3 3.3 1. ]\n",
            "Example 94: label 1, features [5.6 2.7 4.2 1.3]\n",
            "Example 95: label 1, features [5.7 3.  4.2 1.2]\n",
            "Example 96: label 1, features [5.7 2.9 4.2 1.3]\n",
            "Example 97: label 1, features [6.2 2.9 4.3 1.3]\n",
            "Example 98: label 1, features [5.1 2.5 3.  1.1]\n",
            "Example 99: label 1, features [5.7 2.8 4.1 1.3]\n",
            "Example 100: label 2, features [6.3 3.3 6.  2.5]\n",
            "Example 101: label 2, features [5.8 2.7 5.1 1.9]\n",
            "Example 102: label 2, features [7.1 3.  5.9 2.1]\n",
            "Example 103: label 2, features [6.3 2.9 5.6 1.8]\n",
            "Example 104: label 2, features [6.5 3.  5.8 2.2]\n",
            "Example 105: label 2, features [7.6 3.  6.6 2.1]\n",
            "Example 106: label 2, features [4.9 2.5 4.5 1.7]\n",
            "Example 107: label 2, features [7.3 2.9 6.3 1.8]\n",
            "Example 108: label 2, features [6.7 2.5 5.8 1.8]\n",
            "Example 109: label 2, features [7.2 3.6 6.1 2.5]\n",
            "Example 110: label 2, features [6.5 3.2 5.1 2. ]\n",
            "Example 111: label 2, features [6.4 2.7 5.3 1.9]\n",
            "Example 112: label 2, features [6.8 3.  5.5 2.1]\n",
            "Example 113: label 2, features [5.7 2.5 5.  2. ]\n",
            "Example 114: label 2, features [5.8 2.8 5.1 2.4]\n",
            "Example 115: label 2, features [6.4 3.2 5.3 2.3]\n",
            "Example 116: label 2, features [6.5 3.  5.5 1.8]\n",
            "Example 117: label 2, features [7.7 3.8 6.7 2.2]\n",
            "Example 118: label 2, features [7.7 2.6 6.9 2.3]\n",
            "Example 119: label 2, features [6.  2.2 5.  1.5]\n",
            "Example 120: label 2, features [6.9 3.2 5.7 2.3]\n",
            "Example 121: label 2, features [5.6 2.8 4.9 2. ]\n",
            "Example 122: label 2, features [7.7 2.8 6.7 2. ]\n",
            "Example 123: label 2, features [6.3 2.7 4.9 1.8]\n",
            "Example 124: label 2, features [6.7 3.3 5.7 2.1]\n",
            "Example 125: label 2, features [7.2 3.2 6.  1.8]\n",
            "Example 126: label 2, features [6.2 2.8 4.8 1.8]\n",
            "Example 127: label 2, features [6.1 3.  4.9 1.8]\n",
            "Example 128: label 2, features [6.4 2.8 5.6 2.1]\n",
            "Example 129: label 2, features [7.2 3.  5.8 1.6]\n",
            "Example 130: label 2, features [7.4 2.8 6.1 1.9]\n",
            "Example 131: label 2, features [7.9 3.8 6.4 2. ]\n",
            "Example 132: label 2, features [6.4 2.8 5.6 2.2]\n",
            "Example 133: label 2, features [6.3 2.8 5.1 1.5]\n",
            "Example 134: label 2, features [6.1 2.6 5.6 1.4]\n",
            "Example 135: label 2, features [7.7 3.  6.1 2.3]\n",
            "Example 136: label 2, features [6.3 3.4 5.6 2.4]\n",
            "Example 137: label 2, features [6.4 3.1 5.5 1.8]\n",
            "Example 138: label 2, features [6.  3.  4.8 1.8]\n",
            "Example 139: label 2, features [6.9 3.1 5.4 2.1]\n",
            "Example 140: label 2, features [6.7 3.1 5.6 2.4]\n",
            "Example 141: label 2, features [6.9 3.1 5.1 2.3]\n",
            "Example 142: label 2, features [5.8 2.7 5.1 1.9]\n",
            "Example 143: label 2, features [6.8 3.2 5.9 2.3]\n",
            "Example 144: label 2, features [6.7 3.3 5.7 2.5]\n",
            "Example 145: label 2, features [6.7 3.  5.2 2.3]\n",
            "Example 146: label 2, features [6.3 2.5 5.  1.9]\n",
            "Example 147: label 2, features [6.5 3.  5.2 2. ]\n",
            "Example 148: label 2, features [6.2 3.4 5.4 2.3]\n",
            "Example 149: label 2, features [5.9 3.  5.1 1.8]\n"
          ]
        }
      ]
    },
    {
      "cell_type": "markdown",
      "source": [
        "# Model Data "
      ],
      "metadata": {
        "id": "v6gc4afzfM7g"
      }
    },
    {
      "cell_type": "code",
      "source": [
        "# Spliting dataset to test and train set \n",
        "import numpy as np \n",
        "test_idx = [0, 50, 100]   # Select three data for test purpose\n",
        "\n",
        "# Training data\n",
        "train_target = np.delete(iris.target, test_idx)\n",
        "train_data = np.delete(iris.data, test_idx, axis=0)\n",
        "\n",
        "# Testing data \n",
        "test_target = iris.target[test_idx]\n",
        "test_data = iris.data[test_idx]"
      ],
      "metadata": {
        "id": "cOjhfhymfWHM"
      },
      "execution_count": 5,
      "outputs": []
    },
    {
      "cell_type": "code",
      "source": [
        "# Decision Tree Classifier \n",
        "from sklearn import tree \n",
        "model = tree.DecisionTreeClassifier() \n",
        "model.fit(train_data, train_target)"
      ],
      "metadata": {
        "colab": {
          "base_uri": "https://localhost:8080/"
        },
        "id": "3UFBQ3qTfpxZ",
        "outputId": "638fc2f8-e95e-4975-ff7f-bf6bba3ec482"
      },
      "execution_count": 6,
      "outputs": [
        {
          "output_type": "execute_result",
          "data": {
            "text/plain": [
              "DecisionTreeClassifier()"
            ]
          },
          "metadata": {},
          "execution_count": 6
        }
      ]
    },
    {
      "cell_type": "markdown",
      "source": [
        "# Predict label for new flower "
      ],
      "metadata": {
        "id": "A09w6G1EgJkO"
      }
    },
    {
      "cell_type": "code",
      "source": [
        "test_pred = model.predict(test_data)\n",
        "\n",
        "print(test_target)\n",
        "print(test_pred)"
      ],
      "metadata": {
        "colab": {
          "base_uri": "https://localhost:8080/"
        },
        "id": "Q-AitS8gftxJ",
        "outputId": "fc8f800e-1607-4ba2-fe1f-a1ba07b0d606"
      },
      "execution_count": 7,
      "outputs": [
        {
          "output_type": "stream",
          "name": "stdout",
          "text": [
            "[0 1 2]\n",
            "[0 1 2]\n"
          ]
        }
      ]
    },
    {
      "cell_type": "markdown",
      "source": [
        "- The predicted outcome exactly same as the expected outcome. "
      ],
      "metadata": {
        "id": "vgmRdlpWgXkq"
      }
    },
    {
      "cell_type": "code",
      "source": [
        "from sklearn import metrics\n",
        "print (\"Accuracy:\", metrics.accuracy_score(test_target, test_pred))"
      ],
      "metadata": {
        "colab": {
          "base_uri": "https://localhost:8080/"
        },
        "id": "CS5YVNH6ggkf",
        "outputId": "efb2ee32-18cf-4686-e68a-72e1d44410ab"
      },
      "execution_count": 8,
      "outputs": [
        {
          "output_type": "stream",
          "name": "stdout",
          "text": [
            "Accuracy: 1.0\n"
          ]
        }
      ]
    },
    {
      "cell_type": "markdown",
      "source": [
        "# Visualise Data "
      ],
      "metadata": {
        "id": "awXGFqyNhr04"
      }
    },
    {
      "cell_type": "code",
      "source": [
        "import graphviz \n",
        "dot_data = tree.export_graphviz(model, out_file=None, feature_names=iris.feature_names, class_names=iris.target_names, filled=True, rounded=True, special_characters=True)  \n",
        "graph = graphviz.Source(dot_data)  \n",
        "graph "
      ],
      "metadata": {
        "colab": {
          "base_uri": "https://localhost:8080/",
          "height": 917
        },
        "id": "iC4vyHD1ktJo",
        "outputId": "2ffbc955-9ce1-4c15-c2ee-81f1551b5987"
      },
      "execution_count": 9,
      "outputs": [
        {
          "output_type": "execute_result",
          "data": {
            "text/plain": [
              "<graphviz.files.Source at 0x7f5967b88990>"
            ],
            "image/svg+xml": "<?xml version=\"1.0\" encoding=\"UTF-8\" standalone=\"no\"?>\n<!DOCTYPE svg PUBLIC \"-//W3C//DTD SVG 1.1//EN\"\n \"http://www.w3.org/Graphics/SVG/1.1/DTD/svg11.dtd\">\n<!-- Generated by graphviz version 2.40.1 (20161225.0304)\n -->\n<!-- Title: Tree Pages: 1 -->\n<svg width=\"905pt\" height=\"671pt\"\n viewBox=\"0.00 0.00 904.50 671.00\" xmlns=\"http://www.w3.org/2000/svg\" xmlns:xlink=\"http://www.w3.org/1999/xlink\">\n<g id=\"graph0\" class=\"graph\" transform=\"scale(1 1) rotate(0) translate(4 667)\">\n<title>Tree</title>\n<polygon fill=\"#ffffff\" stroke=\"transparent\" points=\"-4,4 -4,-667 900.5,-667 900.5,4 -4,4\"/>\n<!-- 0 -->\n<g id=\"node1\" class=\"node\">\n<title>0</title>\n<path fill=\"#ffffff\" stroke=\"#000000\" d=\"M536.5,-663C536.5,-663 407.5,-663 407.5,-663 401.5,-663 395.5,-657 395.5,-651 395.5,-651 395.5,-592 395.5,-592 395.5,-586 401.5,-580 407.5,-580 407.5,-580 536.5,-580 536.5,-580 542.5,-580 548.5,-586 548.5,-592 548.5,-592 548.5,-651 548.5,-651 548.5,-657 542.5,-663 536.5,-663\"/>\n<text text-anchor=\"start\" x=\"403.5\" y=\"-647.8\" font-family=\"Helvetica,sans-Serif\" font-size=\"14.00\" fill=\"#000000\">petal width (cm) ≤ 0.8</text>\n<text text-anchor=\"start\" x=\"434\" y=\"-632.8\" font-family=\"Helvetica,sans-Serif\" font-size=\"14.00\" fill=\"#000000\">gini = 0.667</text>\n<text text-anchor=\"start\" x=\"424\" y=\"-617.8\" font-family=\"Helvetica,sans-Serif\" font-size=\"14.00\" fill=\"#000000\">samples = 147</text>\n<text text-anchor=\"start\" x=\"410\" y=\"-602.8\" font-family=\"Helvetica,sans-Serif\" font-size=\"14.00\" fill=\"#000000\">value = [49, 49, 49]</text>\n<text text-anchor=\"start\" x=\"425\" y=\"-587.8\" font-family=\"Helvetica,sans-Serif\" font-size=\"14.00\" fill=\"#000000\">class = setosa</text>\n</g>\n<!-- 1 -->\n<g id=\"node2\" class=\"node\">\n<title>1</title>\n<path fill=\"#e58139\" stroke=\"#000000\" d=\"M441.5,-536.5C441.5,-536.5 342.5,-536.5 342.5,-536.5 336.5,-536.5 330.5,-530.5 330.5,-524.5 330.5,-524.5 330.5,-480.5 330.5,-480.5 330.5,-474.5 336.5,-468.5 342.5,-468.5 342.5,-468.5 441.5,-468.5 441.5,-468.5 447.5,-468.5 453.5,-474.5 453.5,-480.5 453.5,-480.5 453.5,-524.5 453.5,-524.5 453.5,-530.5 447.5,-536.5 441.5,-536.5\"/>\n<text text-anchor=\"start\" x=\"362.5\" y=\"-521.3\" font-family=\"Helvetica,sans-Serif\" font-size=\"14.00\" fill=\"#000000\">gini = 0.0</text>\n<text text-anchor=\"start\" x=\"348\" y=\"-506.3\" font-family=\"Helvetica,sans-Serif\" font-size=\"14.00\" fill=\"#000000\">samples = 49</text>\n<text text-anchor=\"start\" x=\"338.5\" y=\"-491.3\" font-family=\"Helvetica,sans-Serif\" font-size=\"14.00\" fill=\"#000000\">value = [49, 0, 0]</text>\n<text text-anchor=\"start\" x=\"345\" y=\"-476.3\" font-family=\"Helvetica,sans-Serif\" font-size=\"14.00\" fill=\"#000000\">class = setosa</text>\n</g>\n<!-- 0&#45;&gt;1 -->\n<g id=\"edge1\" class=\"edge\">\n<title>0&#45;&gt;1</title>\n<path fill=\"none\" stroke=\"#000000\" d=\"M444.0199,-579.8796C436.4797,-568.6636 428.3113,-556.5131 420.7309,-545.2372\"/>\n<polygon fill=\"#000000\" stroke=\"#000000\" points=\"423.5527,-543.1612 415.0689,-536.8149 417.7434,-547.0667 423.5527,-543.1612\"/>\n<text text-anchor=\"middle\" x=\"410.2608\" y=\"-557.6482\" font-family=\"Helvetica,sans-Serif\" font-size=\"14.00\" fill=\"#000000\">True</text>\n</g>\n<!-- 2 -->\n<g id=\"node3\" class=\"node\">\n<title>2</title>\n<path fill=\"#ffffff\" stroke=\"#000000\" d=\"M620.5,-544C620.5,-544 483.5,-544 483.5,-544 477.5,-544 471.5,-538 471.5,-532 471.5,-532 471.5,-473 471.5,-473 471.5,-467 477.5,-461 483.5,-461 483.5,-461 620.5,-461 620.5,-461 626.5,-461 632.5,-467 632.5,-473 632.5,-473 632.5,-532 632.5,-532 632.5,-538 626.5,-544 620.5,-544\"/>\n<text text-anchor=\"start\" x=\"479.5\" y=\"-528.8\" font-family=\"Helvetica,sans-Serif\" font-size=\"14.00\" fill=\"#000000\">petal width (cm) ≤ 1.75</text>\n<text text-anchor=\"start\" x=\"522.5\" y=\"-513.8\" font-family=\"Helvetica,sans-Serif\" font-size=\"14.00\" fill=\"#000000\">gini = 0.5</text>\n<text text-anchor=\"start\" x=\"508\" y=\"-498.8\" font-family=\"Helvetica,sans-Serif\" font-size=\"14.00\" fill=\"#000000\">samples = 98</text>\n<text text-anchor=\"start\" x=\"494.5\" y=\"-483.8\" font-family=\"Helvetica,sans-Serif\" font-size=\"14.00\" fill=\"#000000\">value = [0, 49, 49]</text>\n<text text-anchor=\"start\" x=\"496\" y=\"-468.8\" font-family=\"Helvetica,sans-Serif\" font-size=\"14.00\" fill=\"#000000\">class = versicolor</text>\n</g>\n<!-- 0&#45;&gt;2 -->\n<g id=\"edge2\" class=\"edge\">\n<title>0&#45;&gt;2</title>\n<path fill=\"none\" stroke=\"#000000\" d=\"M499.9801,-579.8796C505.8531,-571.1434 512.1073,-561.8404 518.1679,-552.8253\"/>\n<polygon fill=\"#000000\" stroke=\"#000000\" points=\"521.2259,-554.5498 523.9005,-544.2981 515.4166,-550.6444 521.2259,-554.5498\"/>\n<text text-anchor=\"middle\" x=\"528.7085\" y=\"-565.1314\" font-family=\"Helvetica,sans-Serif\" font-size=\"14.00\" fill=\"#000000\">False</text>\n</g>\n<!-- 3 -->\n<g id=\"node4\" class=\"node\">\n<title>3</title>\n<path fill=\"#4ee88e\" stroke=\"#000000\" d=\"M506.5,-425C506.5,-425 363.5,-425 363.5,-425 357.5,-425 351.5,-419 351.5,-413 351.5,-413 351.5,-354 351.5,-354 351.5,-348 357.5,-342 363.5,-342 363.5,-342 506.5,-342 506.5,-342 512.5,-342 518.5,-348 518.5,-354 518.5,-354 518.5,-413 518.5,-413 518.5,-419 512.5,-425 506.5,-425\"/>\n<text text-anchor=\"start\" x=\"359.5\" y=\"-409.8\" font-family=\"Helvetica,sans-Serif\" font-size=\"14.00\" fill=\"#000000\">petal length (cm) ≤ 4.95</text>\n<text text-anchor=\"start\" x=\"397\" y=\"-394.8\" font-family=\"Helvetica,sans-Serif\" font-size=\"14.00\" fill=\"#000000\">gini = 0.171</text>\n<text text-anchor=\"start\" x=\"391\" y=\"-379.8\" font-family=\"Helvetica,sans-Serif\" font-size=\"14.00\" fill=\"#000000\">samples = 53</text>\n<text text-anchor=\"start\" x=\"381.5\" y=\"-364.8\" font-family=\"Helvetica,sans-Serif\" font-size=\"14.00\" fill=\"#000000\">value = [0, 48, 5]</text>\n<text text-anchor=\"start\" x=\"379\" y=\"-349.8\" font-family=\"Helvetica,sans-Serif\" font-size=\"14.00\" fill=\"#000000\">class = versicolor</text>\n</g>\n<!-- 2&#45;&gt;3 -->\n<g id=\"edge3\" class=\"edge\">\n<title>2&#45;&gt;3</title>\n<path fill=\"none\" stroke=\"#000000\" d=\"M511.0791,-460.8796C502.047,-451.6931 492.3987,-441.8798 483.1112,-432.4336\"/>\n<polygon fill=\"#000000\" stroke=\"#000000\" points=\"485.6023,-429.975 476.0956,-425.2981 480.6107,-434.8827 485.6023,-429.975\"/>\n</g>\n<!-- 12 -->\n<g id=\"node13\" class=\"node\">\n<title>12</title>\n<path fill=\"#843de6\" stroke=\"#000000\" d=\"M741.5,-425C741.5,-425 598.5,-425 598.5,-425 592.5,-425 586.5,-419 586.5,-413 586.5,-413 586.5,-354 586.5,-354 586.5,-348 592.5,-342 598.5,-342 598.5,-342 741.5,-342 741.5,-342 747.5,-342 753.5,-348 753.5,-354 753.5,-354 753.5,-413 753.5,-413 753.5,-419 747.5,-425 741.5,-425\"/>\n<text text-anchor=\"start\" x=\"594.5\" y=\"-409.8\" font-family=\"Helvetica,sans-Serif\" font-size=\"14.00\" fill=\"#000000\">petal length (cm) ≤ 4.85</text>\n<text text-anchor=\"start\" x=\"632\" y=\"-394.8\" font-family=\"Helvetica,sans-Serif\" font-size=\"14.00\" fill=\"#000000\">gini = 0.043</text>\n<text text-anchor=\"start\" x=\"626\" y=\"-379.8\" font-family=\"Helvetica,sans-Serif\" font-size=\"14.00\" fill=\"#000000\">samples = 45</text>\n<text text-anchor=\"start\" x=\"616.5\" y=\"-364.8\" font-family=\"Helvetica,sans-Serif\" font-size=\"14.00\" fill=\"#000000\">value = [0, 1, 44]</text>\n<text text-anchor=\"start\" x=\"618.5\" y=\"-349.8\" font-family=\"Helvetica,sans-Serif\" font-size=\"14.00\" fill=\"#000000\">class = virginica</text>\n</g>\n<!-- 2&#45;&gt;12 -->\n<g id=\"edge12\" class=\"edge\">\n<title>2&#45;&gt;12</title>\n<path fill=\"none\" stroke=\"#000000\" d=\"M593.2707,-460.8796C602.3799,-451.6931 612.1108,-441.8798 621.4776,-432.4336\"/>\n<polygon fill=\"#000000\" stroke=\"#000000\" points=\"623.9973,-434.8634 628.5532,-425.2981 619.0267,-429.9345 623.9973,-434.8634\"/>\n</g>\n<!-- 4 -->\n<g id=\"node5\" class=\"node\">\n<title>4</title>\n<path fill=\"#3de684\" stroke=\"#000000\" d=\"M274.5,-306C274.5,-306 137.5,-306 137.5,-306 131.5,-306 125.5,-300 125.5,-294 125.5,-294 125.5,-235 125.5,-235 125.5,-229 131.5,-223 137.5,-223 137.5,-223 274.5,-223 274.5,-223 280.5,-223 286.5,-229 286.5,-235 286.5,-235 286.5,-294 286.5,-294 286.5,-300 280.5,-306 274.5,-306\"/>\n<text text-anchor=\"start\" x=\"133.5\" y=\"-290.8\" font-family=\"Helvetica,sans-Serif\" font-size=\"14.00\" fill=\"#000000\">petal width (cm) ≤ 1.65</text>\n<text text-anchor=\"start\" x=\"168\" y=\"-275.8\" font-family=\"Helvetica,sans-Serif\" font-size=\"14.00\" fill=\"#000000\">gini = 0.042</text>\n<text text-anchor=\"start\" x=\"162\" y=\"-260.8\" font-family=\"Helvetica,sans-Serif\" font-size=\"14.00\" fill=\"#000000\">samples = 47</text>\n<text text-anchor=\"start\" x=\"152.5\" y=\"-245.8\" font-family=\"Helvetica,sans-Serif\" font-size=\"14.00\" fill=\"#000000\">value = [0, 46, 1]</text>\n<text text-anchor=\"start\" x=\"150\" y=\"-230.8\" font-family=\"Helvetica,sans-Serif\" font-size=\"14.00\" fill=\"#000000\">class = versicolor</text>\n</g>\n<!-- 3&#45;&gt;4 -->\n<g id=\"edge4\" class=\"edge\">\n<title>3&#45;&gt;4</title>\n<path fill=\"none\" stroke=\"#000000\" d=\"M354.9069,-341.8796C335.5571,-331.8244 314.7621,-321.0183 295.0301,-310.7645\"/>\n<polygon fill=\"#000000\" stroke=\"#000000\" points=\"296.5352,-307.6024 286.0479,-306.0969 293.3074,-313.8138 296.5352,-307.6024\"/>\n</g>\n<!-- 7 -->\n<g id=\"node8\" class=\"node\">\n<title>7</title>\n<path fill=\"#c09cf2\" stroke=\"#000000\" d=\"M503.5,-306C503.5,-306 366.5,-306 366.5,-306 360.5,-306 354.5,-300 354.5,-294 354.5,-294 354.5,-235 354.5,-235 354.5,-229 360.5,-223 366.5,-223 366.5,-223 503.5,-223 503.5,-223 509.5,-223 515.5,-229 515.5,-235 515.5,-235 515.5,-294 515.5,-294 515.5,-300 509.5,-306 503.5,-306\"/>\n<text text-anchor=\"start\" x=\"362.5\" y=\"-290.8\" font-family=\"Helvetica,sans-Serif\" font-size=\"14.00\" fill=\"#000000\">petal width (cm) ≤ 1.55</text>\n<text text-anchor=\"start\" x=\"397\" y=\"-275.8\" font-family=\"Helvetica,sans-Serif\" font-size=\"14.00\" fill=\"#000000\">gini = 0.444</text>\n<text text-anchor=\"start\" x=\"395.5\" y=\"-260.8\" font-family=\"Helvetica,sans-Serif\" font-size=\"14.00\" fill=\"#000000\">samples = 6</text>\n<text text-anchor=\"start\" x=\"385.5\" y=\"-245.8\" font-family=\"Helvetica,sans-Serif\" font-size=\"14.00\" fill=\"#000000\">value = [0, 2, 4]</text>\n<text text-anchor=\"start\" x=\"383.5\" y=\"-230.8\" font-family=\"Helvetica,sans-Serif\" font-size=\"14.00\" fill=\"#000000\">class = virginica</text>\n</g>\n<!-- 3&#45;&gt;7 -->\n<g id=\"edge7\" class=\"edge\">\n<title>3&#45;&gt;7</title>\n<path fill=\"none\" stroke=\"#000000\" d=\"M435,-341.8796C435,-333.6838 435,-324.9891 435,-316.5013\"/>\n<polygon fill=\"#000000\" stroke=\"#000000\" points=\"438.5001,-316.298 435,-306.2981 431.5001,-316.2981 438.5001,-316.298\"/>\n</g>\n<!-- 5 -->\n<g id=\"node6\" class=\"node\">\n<title>5</title>\n<path fill=\"#39e581\" stroke=\"#000000\" d=\"M116,-179.5C116,-179.5 12,-179.5 12,-179.5 6,-179.5 0,-173.5 0,-167.5 0,-167.5 0,-123.5 0,-123.5 0,-117.5 6,-111.5 12,-111.5 12,-111.5 116,-111.5 116,-111.5 122,-111.5 128,-117.5 128,-123.5 128,-123.5 128,-167.5 128,-167.5 128,-173.5 122,-179.5 116,-179.5\"/>\n<text text-anchor=\"start\" x=\"34.5\" y=\"-164.3\" font-family=\"Helvetica,sans-Serif\" font-size=\"14.00\" fill=\"#000000\">gini = 0.0</text>\n<text text-anchor=\"start\" x=\"20\" y=\"-149.3\" font-family=\"Helvetica,sans-Serif\" font-size=\"14.00\" fill=\"#000000\">samples = 46</text>\n<text text-anchor=\"start\" x=\"10.5\" y=\"-134.3\" font-family=\"Helvetica,sans-Serif\" font-size=\"14.00\" fill=\"#000000\">value = [0, 46, 0]</text>\n<text text-anchor=\"start\" x=\"8\" y=\"-119.3\" font-family=\"Helvetica,sans-Serif\" font-size=\"14.00\" fill=\"#000000\">class = versicolor</text>\n</g>\n<!-- 4&#45;&gt;5 -->\n<g id=\"edge5\" class=\"edge\">\n<title>4&#45;&gt;5</title>\n<path fill=\"none\" stroke=\"#000000\" d=\"M156.3353,-222.8796C142.1642,-211.0038 126.743,-198.0804 112.6342,-186.2568\"/>\n<polygon fill=\"#000000\" stroke=\"#000000\" points=\"114.8598,-183.5554 104.9472,-179.8149 110.3637,-188.9206 114.8598,-183.5554\"/>\n</g>\n<!-- 6 -->\n<g id=\"node7\" class=\"node\">\n<title>6</title>\n<path fill=\"#8139e5\" stroke=\"#000000\" d=\"M253.5,-179.5C253.5,-179.5 158.5,-179.5 158.5,-179.5 152.5,-179.5 146.5,-173.5 146.5,-167.5 146.5,-167.5 146.5,-123.5 146.5,-123.5 146.5,-117.5 152.5,-111.5 158.5,-111.5 158.5,-111.5 253.5,-111.5 253.5,-111.5 259.5,-111.5 265.5,-117.5 265.5,-123.5 265.5,-123.5 265.5,-167.5 265.5,-167.5 265.5,-173.5 259.5,-179.5 253.5,-179.5\"/>\n<text text-anchor=\"start\" x=\"176.5\" y=\"-164.3\" font-family=\"Helvetica,sans-Serif\" font-size=\"14.00\" fill=\"#000000\">gini = 0.0</text>\n<text text-anchor=\"start\" x=\"166.5\" y=\"-149.3\" font-family=\"Helvetica,sans-Serif\" font-size=\"14.00\" fill=\"#000000\">samples = 1</text>\n<text text-anchor=\"start\" x=\"156.5\" y=\"-134.3\" font-family=\"Helvetica,sans-Serif\" font-size=\"14.00\" fill=\"#000000\">value = [0, 0, 1]</text>\n<text text-anchor=\"start\" x=\"154.5\" y=\"-119.3\" font-family=\"Helvetica,sans-Serif\" font-size=\"14.00\" fill=\"#000000\">class = virginica</text>\n</g>\n<!-- 4&#45;&gt;6 -->\n<g id=\"edge6\" class=\"edge\">\n<title>4&#45;&gt;6</title>\n<path fill=\"none\" stroke=\"#000000\" d=\"M206,-222.8796C206,-212.2134 206,-200.7021 206,-189.9015\"/>\n<polygon fill=\"#000000\" stroke=\"#000000\" points=\"209.5001,-189.8149 206,-179.8149 202.5001,-189.815 209.5001,-189.8149\"/>\n</g>\n<!-- 8 -->\n<g id=\"node9\" class=\"node\">\n<title>8</title>\n<path fill=\"#8139e5\" stroke=\"#000000\" d=\"M390.5,-179.5C390.5,-179.5 295.5,-179.5 295.5,-179.5 289.5,-179.5 283.5,-173.5 283.5,-167.5 283.5,-167.5 283.5,-123.5 283.5,-123.5 283.5,-117.5 289.5,-111.5 295.5,-111.5 295.5,-111.5 390.5,-111.5 390.5,-111.5 396.5,-111.5 402.5,-117.5 402.5,-123.5 402.5,-123.5 402.5,-167.5 402.5,-167.5 402.5,-173.5 396.5,-179.5 390.5,-179.5\"/>\n<text text-anchor=\"start\" x=\"313.5\" y=\"-164.3\" font-family=\"Helvetica,sans-Serif\" font-size=\"14.00\" fill=\"#000000\">gini = 0.0</text>\n<text text-anchor=\"start\" x=\"303.5\" y=\"-149.3\" font-family=\"Helvetica,sans-Serif\" font-size=\"14.00\" fill=\"#000000\">samples = 3</text>\n<text text-anchor=\"start\" x=\"293.5\" y=\"-134.3\" font-family=\"Helvetica,sans-Serif\" font-size=\"14.00\" fill=\"#000000\">value = [0, 0, 3]</text>\n<text text-anchor=\"start\" x=\"291.5\" y=\"-119.3\" font-family=\"Helvetica,sans-Serif\" font-size=\"14.00\" fill=\"#000000\">class = virginica</text>\n</g>\n<!-- 7&#45;&gt;8 -->\n<g id=\"edge8\" class=\"edge\">\n<title>7&#45;&gt;8</title>\n<path fill=\"none\" stroke=\"#000000\" d=\"M402.8229,-222.8796C394.0667,-211.5536 384.5738,-199.2748 375.7844,-187.9058\"/>\n<polygon fill=\"#000000\" stroke=\"#000000\" points=\"378.4146,-185.5856 369.5292,-179.8149 372.8766,-189.8671 378.4146,-185.5856\"/>\n</g>\n<!-- 9 -->\n<g id=\"node10\" class=\"node\">\n<title>9</title>\n<path fill=\"#9cf2c0\" stroke=\"#000000\" d=\"M575.5,-187C575.5,-187 432.5,-187 432.5,-187 426.5,-187 420.5,-181 420.5,-175 420.5,-175 420.5,-116 420.5,-116 420.5,-110 426.5,-104 432.5,-104 432.5,-104 575.5,-104 575.5,-104 581.5,-104 587.5,-110 587.5,-116 587.5,-116 587.5,-175 587.5,-175 587.5,-181 581.5,-187 575.5,-187\"/>\n<text text-anchor=\"start\" x=\"428.5\" y=\"-171.8\" font-family=\"Helvetica,sans-Serif\" font-size=\"14.00\" fill=\"#000000\">petal length (cm) ≤ 5.45</text>\n<text text-anchor=\"start\" x=\"466\" y=\"-156.8\" font-family=\"Helvetica,sans-Serif\" font-size=\"14.00\" fill=\"#000000\">gini = 0.444</text>\n<text text-anchor=\"start\" x=\"464.5\" y=\"-141.8\" font-family=\"Helvetica,sans-Serif\" font-size=\"14.00\" fill=\"#000000\">samples = 3</text>\n<text text-anchor=\"start\" x=\"454.5\" y=\"-126.8\" font-family=\"Helvetica,sans-Serif\" font-size=\"14.00\" fill=\"#000000\">value = [0, 2, 1]</text>\n<text text-anchor=\"start\" x=\"448\" y=\"-111.8\" font-family=\"Helvetica,sans-Serif\" font-size=\"14.00\" fill=\"#000000\">class = versicolor</text>\n</g>\n<!-- 7&#45;&gt;9 -->\n<g id=\"edge9\" class=\"edge\">\n<title>7&#45;&gt;9</title>\n<path fill=\"none\" stroke=\"#000000\" d=\"M459.1329,-222.8796C464.1461,-214.2335 469.4813,-205.0322 474.6581,-196.1042\"/>\n<polygon fill=\"#000000\" stroke=\"#000000\" points=\"477.7758,-197.7047 479.7641,-187.2981 471.7202,-194.1934 477.7758,-197.7047\"/>\n</g>\n<!-- 10 -->\n<g id=\"node11\" class=\"node\">\n<title>10</title>\n<path fill=\"#39e581\" stroke=\"#000000\" d=\"M485,-68C485,-68 381,-68 381,-68 375,-68 369,-62 369,-56 369,-56 369,-12 369,-12 369,-6 375,0 381,0 381,0 485,0 485,0 491,0 497,-6 497,-12 497,-12 497,-56 497,-56 497,-62 491,-68 485,-68\"/>\n<text text-anchor=\"start\" x=\"403.5\" y=\"-52.8\" font-family=\"Helvetica,sans-Serif\" font-size=\"14.00\" fill=\"#000000\">gini = 0.0</text>\n<text text-anchor=\"start\" x=\"393.5\" y=\"-37.8\" font-family=\"Helvetica,sans-Serif\" font-size=\"14.00\" fill=\"#000000\">samples = 2</text>\n<text text-anchor=\"start\" x=\"383.5\" y=\"-22.8\" font-family=\"Helvetica,sans-Serif\" font-size=\"14.00\" fill=\"#000000\">value = [0, 2, 0]</text>\n<text text-anchor=\"start\" x=\"377\" y=\"-7.8\" font-family=\"Helvetica,sans-Serif\" font-size=\"14.00\" fill=\"#000000\">class = versicolor</text>\n</g>\n<!-- 9&#45;&gt;10 -->\n<g id=\"edge10\" class=\"edge\">\n<title>9&#45;&gt;10</title>\n<path fill=\"none\" stroke=\"#000000\" d=\"M477.5622,-103.9815C471.944,-95.1585 466.0012,-85.8258 460.3497,-76.9506\"/>\n<polygon fill=\"#000000\" stroke=\"#000000\" points=\"463.1416,-74.8188 454.8181,-68.2637 457.2371,-78.5787 463.1416,-74.8188\"/>\n</g>\n<!-- 11 -->\n<g id=\"node12\" class=\"node\">\n<title>11</title>\n<path fill=\"#8139e5\" stroke=\"#000000\" d=\"M622.5,-68C622.5,-68 527.5,-68 527.5,-68 521.5,-68 515.5,-62 515.5,-56 515.5,-56 515.5,-12 515.5,-12 515.5,-6 521.5,0 527.5,0 527.5,0 622.5,0 622.5,0 628.5,0 634.5,-6 634.5,-12 634.5,-12 634.5,-56 634.5,-56 634.5,-62 628.5,-68 622.5,-68\"/>\n<text text-anchor=\"start\" x=\"545.5\" y=\"-52.8\" font-family=\"Helvetica,sans-Serif\" font-size=\"14.00\" fill=\"#000000\">gini = 0.0</text>\n<text text-anchor=\"start\" x=\"535.5\" y=\"-37.8\" font-family=\"Helvetica,sans-Serif\" font-size=\"14.00\" fill=\"#000000\">samples = 1</text>\n<text text-anchor=\"start\" x=\"525.5\" y=\"-22.8\" font-family=\"Helvetica,sans-Serif\" font-size=\"14.00\" fill=\"#000000\">value = [0, 0, 1]</text>\n<text text-anchor=\"start\" x=\"523.5\" y=\"-7.8\" font-family=\"Helvetica,sans-Serif\" font-size=\"14.00\" fill=\"#000000\">class = virginica</text>\n</g>\n<!-- 9&#45;&gt;11 -->\n<g id=\"edge11\" class=\"edge\">\n<title>9&#45;&gt;11</title>\n<path fill=\"none\" stroke=\"#000000\" d=\"M530.4378,-103.9815C536.056,-95.1585 541.9988,-85.8258 547.6503,-76.9506\"/>\n<polygon fill=\"#000000\" stroke=\"#000000\" points=\"550.7629,-78.5787 553.1819,-68.2637 544.8584,-74.8188 550.7629,-78.5787\"/>\n</g>\n<!-- 13 -->\n<g id=\"node14\" class=\"node\">\n<title>13</title>\n<path fill=\"#c09cf2\" stroke=\"#000000\" d=\"M743.5,-306C743.5,-306 596.5,-306 596.5,-306 590.5,-306 584.5,-300 584.5,-294 584.5,-294 584.5,-235 584.5,-235 584.5,-229 590.5,-223 596.5,-223 596.5,-223 743.5,-223 743.5,-223 749.5,-223 755.5,-229 755.5,-235 755.5,-235 755.5,-294 755.5,-294 755.5,-300 749.5,-306 743.5,-306\"/>\n<text text-anchor=\"start\" x=\"592.5\" y=\"-290.8\" font-family=\"Helvetica,sans-Serif\" font-size=\"14.00\" fill=\"#000000\">sepal length (cm) ≤ 5.95</text>\n<text text-anchor=\"start\" x=\"632\" y=\"-275.8\" font-family=\"Helvetica,sans-Serif\" font-size=\"14.00\" fill=\"#000000\">gini = 0.444</text>\n<text text-anchor=\"start\" x=\"630.5\" y=\"-260.8\" font-family=\"Helvetica,sans-Serif\" font-size=\"14.00\" fill=\"#000000\">samples = 3</text>\n<text text-anchor=\"start\" x=\"620.5\" y=\"-245.8\" font-family=\"Helvetica,sans-Serif\" font-size=\"14.00\" fill=\"#000000\">value = [0, 1, 2]</text>\n<text text-anchor=\"start\" x=\"618.5\" y=\"-230.8\" font-family=\"Helvetica,sans-Serif\" font-size=\"14.00\" fill=\"#000000\">class = virginica</text>\n</g>\n<!-- 12&#45;&gt;13 -->\n<g id=\"edge13\" class=\"edge\">\n<title>12&#45;&gt;13</title>\n<path fill=\"none\" stroke=\"#000000\" d=\"M670,-341.8796C670,-333.6838 670,-324.9891 670,-316.5013\"/>\n<polygon fill=\"#000000\" stroke=\"#000000\" points=\"673.5001,-316.298 670,-306.2981 666.5001,-316.2981 673.5001,-316.298\"/>\n</g>\n<!-- 16 -->\n<g id=\"node17\" class=\"node\">\n<title>16</title>\n<path fill=\"#8139e5\" stroke=\"#000000\" d=\"M884.5,-298.5C884.5,-298.5 785.5,-298.5 785.5,-298.5 779.5,-298.5 773.5,-292.5 773.5,-286.5 773.5,-286.5 773.5,-242.5 773.5,-242.5 773.5,-236.5 779.5,-230.5 785.5,-230.5 785.5,-230.5 884.5,-230.5 884.5,-230.5 890.5,-230.5 896.5,-236.5 896.5,-242.5 896.5,-242.5 896.5,-286.5 896.5,-286.5 896.5,-292.5 890.5,-298.5 884.5,-298.5\"/>\n<text text-anchor=\"start\" x=\"805.5\" y=\"-283.3\" font-family=\"Helvetica,sans-Serif\" font-size=\"14.00\" fill=\"#000000\">gini = 0.0</text>\n<text text-anchor=\"start\" x=\"791\" y=\"-268.3\" font-family=\"Helvetica,sans-Serif\" font-size=\"14.00\" fill=\"#000000\">samples = 42</text>\n<text text-anchor=\"start\" x=\"781.5\" y=\"-253.3\" font-family=\"Helvetica,sans-Serif\" font-size=\"14.00\" fill=\"#000000\">value = [0, 0, 42]</text>\n<text text-anchor=\"start\" x=\"783.5\" y=\"-238.3\" font-family=\"Helvetica,sans-Serif\" font-size=\"14.00\" fill=\"#000000\">class = virginica</text>\n</g>\n<!-- 12&#45;&gt;16 -->\n<g id=\"edge16\" class=\"edge\">\n<title>12&#45;&gt;16</title>\n<path fill=\"none\" stroke=\"#000000\" d=\"M727.709,-341.8796C744.407,-329.8368 762.5987,-316.7167 779.1793,-304.7586\"/>\n<polygon fill=\"#000000\" stroke=\"#000000\" points=\"781.6232,-307.3113 787.6865,-298.623 777.5285,-301.6339 781.6232,-307.3113\"/>\n</g>\n<!-- 14 -->\n<g id=\"node15\" class=\"node\">\n<title>14</title>\n<path fill=\"#39e581\" stroke=\"#000000\" d=\"M722,-179.5C722,-179.5 618,-179.5 618,-179.5 612,-179.5 606,-173.5 606,-167.5 606,-167.5 606,-123.5 606,-123.5 606,-117.5 612,-111.5 618,-111.5 618,-111.5 722,-111.5 722,-111.5 728,-111.5 734,-117.5 734,-123.5 734,-123.5 734,-167.5 734,-167.5 734,-173.5 728,-179.5 722,-179.5\"/>\n<text text-anchor=\"start\" x=\"640.5\" y=\"-164.3\" font-family=\"Helvetica,sans-Serif\" font-size=\"14.00\" fill=\"#000000\">gini = 0.0</text>\n<text text-anchor=\"start\" x=\"630.5\" y=\"-149.3\" font-family=\"Helvetica,sans-Serif\" font-size=\"14.00\" fill=\"#000000\">samples = 1</text>\n<text text-anchor=\"start\" x=\"620.5\" y=\"-134.3\" font-family=\"Helvetica,sans-Serif\" font-size=\"14.00\" fill=\"#000000\">value = [0, 1, 0]</text>\n<text text-anchor=\"start\" x=\"614\" y=\"-119.3\" font-family=\"Helvetica,sans-Serif\" font-size=\"14.00\" fill=\"#000000\">class = versicolor</text>\n</g>\n<!-- 13&#45;&gt;14 -->\n<g id=\"edge14\" class=\"edge\">\n<title>13&#45;&gt;14</title>\n<path fill=\"none\" stroke=\"#000000\" d=\"M670,-222.8796C670,-212.2134 670,-200.7021 670,-189.9015\"/>\n<polygon fill=\"#000000\" stroke=\"#000000\" points=\"673.5001,-189.8149 670,-179.8149 666.5001,-189.815 673.5001,-189.8149\"/>\n</g>\n<!-- 15 -->\n<g id=\"node16\" class=\"node\">\n<title>15</title>\n<path fill=\"#8139e5\" stroke=\"#000000\" d=\"M859.5,-179.5C859.5,-179.5 764.5,-179.5 764.5,-179.5 758.5,-179.5 752.5,-173.5 752.5,-167.5 752.5,-167.5 752.5,-123.5 752.5,-123.5 752.5,-117.5 758.5,-111.5 764.5,-111.5 764.5,-111.5 859.5,-111.5 859.5,-111.5 865.5,-111.5 871.5,-117.5 871.5,-123.5 871.5,-123.5 871.5,-167.5 871.5,-167.5 871.5,-173.5 865.5,-179.5 859.5,-179.5\"/>\n<text text-anchor=\"start\" x=\"782.5\" y=\"-164.3\" font-family=\"Helvetica,sans-Serif\" font-size=\"14.00\" fill=\"#000000\">gini = 0.0</text>\n<text text-anchor=\"start\" x=\"772.5\" y=\"-149.3\" font-family=\"Helvetica,sans-Serif\" font-size=\"14.00\" fill=\"#000000\">samples = 2</text>\n<text text-anchor=\"start\" x=\"762.5\" y=\"-134.3\" font-family=\"Helvetica,sans-Serif\" font-size=\"14.00\" fill=\"#000000\">value = [0, 0, 2]</text>\n<text text-anchor=\"start\" x=\"760.5\" y=\"-119.3\" font-family=\"Helvetica,sans-Serif\" font-size=\"14.00\" fill=\"#000000\">class = virginica</text>\n</g>\n<!-- 13&#45;&gt;15 -->\n<g id=\"edge15\" class=\"edge\">\n<title>13&#45;&gt;15</title>\n<path fill=\"none\" stroke=\"#000000\" d=\"M719.6647,-222.8796C733.8358,-211.0038 749.257,-198.0804 763.3658,-186.2568\"/>\n<polygon fill=\"#000000\" stroke=\"#000000\" points=\"765.6363,-188.9206 771.0528,-179.8149 761.1402,-183.5554 765.6363,-188.9206\"/>\n</g>\n</g>\n</svg>\n"
          },
          "metadata": {},
          "execution_count": 9
        }
      ]
    }
  ]
}